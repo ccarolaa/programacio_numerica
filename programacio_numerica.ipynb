{
 "cells": [
  {
   "cell_type": "markdown",
   "id": "1914d209",
   "metadata": {},
   "source": [
    "### M1 T01: Pràctica amb programació numèrica NumPy\n",
    "Carla Toledo Rodríguez"
   ]
  },
  {
   "cell_type": "markdown",
   "id": "e2bbc3d3",
   "metadata": {},
   "source": [
    "**Exercici 1**\n",
    "Crea una funció que donat un Array d’una dimensió, et faci un resum estadístic bàsic de les dades. Si detecta que l’array té més d’una dimensió, ha de mostrar un missatge d’error."
   ]
  },
  {
   "cell_type": "code",
   "execution_count": 2,
   "id": "68e65072",
   "metadata": {},
   "outputs": [
    {
     "name": "stdout",
     "output_type": "stream",
     "text": [
      "[5 8 6]\n",
      "[[2 1 9]\n",
      " [1 2 3]]\n"
     ]
    }
   ],
   "source": [
    "# Importem la llibreria \"numpy\"\n",
    "import numpy as np\n",
    "\n",
    "# Creem un array d'una dimensió i un altre de dos dimensions\n",
    "array_a = np.array([5,8,6])\n",
    "array_b = np.array([(2,1,9),(1,2,3)])\n",
    "\n",
    "print(array_a)\n",
    "print(array_b)"
   ]
  },
  {
   "cell_type": "code",
   "execution_count": 2,
   "id": "6b8f188a",
   "metadata": {},
   "outputs": [],
   "source": [
    "# Associem l'array escollit amb la variable \n",
    "array1 = array_a\n",
    "# array1 = array_b\n",
    "\n",
    "# Creem les variables per l'anàlisi estadístic\n",
    "dimensio = array1.shape\n",
    "longitud = len(array1)\n",
    "tipus_dada = array1.dtype\n",
    "suma = array1.sum()\n",
    "minim = array1.min()\n",
    "maxim = array1.max()\n",
    "mitjana = array1.mean()\n",
    "mediana = np.median(array1)\n",
    "coef_corr = np.corrcoef(array1)\n",
    "desv_std = np.std(array1)"
   ]
  },
  {
   "cell_type": "code",
   "execution_count": 3,
   "id": "919f8ebc",
   "metadata": {},
   "outputs": [
    {
     "name": "stdout",
     "output_type": "stream",
     "text": [
      "Dimensió: (3,)\n",
      "Longitud: 3\n",
      "Tipus de dada: int32\n",
      "Suma dels valors: 19\n",
      "Valor mínim: 5\n",
      "Valor màxim: 8\n",
      "Valor mitjà: 6.333333333333333\n",
      "Coeficient de correlació: 1.0\n",
      "Desviació estàndar: 1.247219128924647\n"
     ]
    }
   ],
   "source": [
    "# La funció és:\n",
    "\n",
    "def stats_array():\n",
    "    if array1.ndim < 2:\n",
    "        print(\"Dimensió: \" + str(dimensio)) \n",
    "        print(\"Longitud: \" + str(longitud))\n",
    "        print(\"Tipus de dada: \" + str(tipus_dada))\n",
    "        print(\"Suma dels valors: \" + str(suma))\n",
    "        print(\"Valor mínim: \" + str(minim))\n",
    "        print(\"Valor màxim: \" + str(maxim))\n",
    "        print(\"Valor mitjà: \" + str(mitjana))\n",
    "        print(\"Coeficient de correlació: \" + str(coef_corr))\n",
    "        print(\"Desviació estàndar: \" + str(desv_std)) \n",
    "    else:\n",
    "        return \"Error: l'array ha de tenir només una dimensió\"\n",
    "\n",
    "stats_array()"
   ]
  },
  {
   "cell_type": "markdown",
   "id": "7515e43b",
   "metadata": {},
   "source": [
    "**Exercici 2**\n",
    "Crea una funció que et generi un quadrat NxN de nombres aleatoris entre el 0 i el 100."
   ]
  },
  {
   "cell_type": "code",
   "execution_count": 5,
   "id": "cdbc6e90",
   "metadata": {},
   "outputs": [
    {
     "name": "stdout",
     "output_type": "stream",
     "text": [
      "[[94 67 50]\n",
      " [47 83 63]]\n"
     ]
    }
   ],
   "source": [
    "# La funció conté la formula per generar un array 2D NxN de nombres aleatoris. En aquest cas, N=3\n",
    "\n",
    "def random_array1():\n",
    "    print(np.random.randint([(100,100,100),(100,100,100)]))\n",
    "\n",
    "random_array1()"
   ]
  },
  {
   "cell_type": "code",
   "execution_count": 6,
   "id": "9b911ac8",
   "metadata": {},
   "outputs": [
    {
     "name": "stdout",
     "output_type": "stream",
     "text": [
      "Tria un numero del 1 al 10: 4\n"
     ]
    },
    {
     "data": {
      "text/plain": [
       "array([[88, 38, 48, 66],\n",
       "       [85, 33, 84, 68],\n",
       "       [98, 37, 83, 12],\n",
       "       [40, 42, 34, 36]])"
      ]
     },
     "execution_count": 6,
     "metadata": {},
     "output_type": "execute_result"
    }
   ],
   "source": [
    "# Solució\n",
    "\n",
    "def matrix_generator():\n",
    "    y = int(input('Tria un numero del 1 al 10: '))\n",
    "    matriu_nxn = np.random.randint(1, 101, size = (y, y))\n",
    "    return matriu_nxn\n",
    "\n",
    "matrix_generator()"
   ]
  },
  {
   "cell_type": "markdown",
   "id": "b1303576",
   "metadata": {},
   "source": [
    "**Exercici 3**\n",
    "Crea una funció que donada una taula de dues dimensions, et calculi els totals per fila i els totals per columna."
   ]
  },
  {
   "cell_type": "code",
   "execution_count": 10,
   "id": "c2cc8e4d",
   "metadata": {},
   "outputs": [
    {
     "name": "stdout",
     "output_type": "stream",
     "text": [
      "[[30 15 45]\n",
      " [44 71 20]]\n",
      "[23  8 12]\n"
     ]
    }
   ],
   "source": [
    "# Creem un array de dos dimensions i un array d'una dimensió\n",
    "array_c = np.array([(30,15,45),(44,71,20)])\n",
    "array_d = np.array([23,8,12])\n",
    "\n",
    "print(array_c)\n",
    "print(array_d)\n",
    "\n",
    "# Associem l'array escollit amb la variable \n",
    "array2 = array_c\n",
    "#array2 = array_d"
   ]
  },
  {
   "cell_type": "code",
   "execution_count": 11,
   "id": "c797227f",
   "metadata": {},
   "outputs": [
    {
     "name": "stdout",
     "output_type": "stream",
     "text": [
      "Els totals per fila són [ 90 135]\n",
      "Els totals per columna són [74 86 65]\n"
     ]
    },
    {
     "data": {
      "text/plain": [
       "array([[30, 15, 45],\n",
       "       [44, 71, 20]])"
      ]
     },
     "execution_count": 11,
     "metadata": {},
     "output_type": "execute_result"
    }
   ],
   "source": [
    "# La funció és:\n",
    "\n",
    "def calc_totals():\n",
    "    if 1 < array2.ndim < 3:\n",
    "        print('Els totals per fila són ' + str(array2.sum(axis=1)))\n",
    "        print('Els totals per columna són ' + str(array2.sum(axis=0)))\n",
    "        return array2\n",
    "    else:\n",
    "        return 'Error'\n",
    "\n",
    "calc_totals()"
   ]
  },
  {
   "cell_type": "code",
   "execution_count": 12,
   "id": "e165f03b",
   "metadata": {},
   "outputs": [
    {
     "name": "stdout",
     "output_type": "stream",
     "text": [
      "Tria un numero del 1 al 10 que serà el número de files: 2\n",
      "Tria un numero del 1 al 10 que serà el número de columnes: 3\n",
      "Els totals per fila són [244 162]\n",
      "Els totals per columna són [103 188 115]\n"
     ]
    },
    {
     "data": {
      "text/plain": [
       "array([[79, 90, 75],\n",
       "       [24, 98, 40]])"
      ]
     },
     "execution_count": 12,
     "metadata": {},
     "output_type": "execute_result"
    }
   ],
   "source": [
    "# Solució\n",
    "\n",
    "def matriu_generador():\n",
    "    x = int(input('Tria un numero del 1 al 10 que serà el número de files: '))\n",
    "    y = int(input('Tria un numero del 1 al 10 que serà el número de columnes: '))\n",
    "    matriu_nxy = np.random.randint(1, 101, size = (x, y))\n",
    "    print('Els totals per fila són {}'.format(np.sum(matriu_nxy, axis=1)))\n",
    "    print('Els totals per columna són {}'.format(np.sum(matriu_nxy, axis=0)))\n",
    "    return matriu_nxy\n",
    "\n",
    "matriu_generador()"
   ]
  },
  {
   "cell_type": "markdown",
   "id": "58d24d24",
   "metadata": {},
   "source": [
    "**Exercici 4**\n",
    "Implementa manualment una funció que calculi el coeficient de correlació. Informa’t-en sobre els seus usos i interpretació."
   ]
  },
  {
   "cell_type": "markdown",
   "id": "b9d5c70d",
   "metadata": {},
   "source": [
    "El coeficient de correlació indica el grau de correlació entre dos variables quantitatives. A Estadística, és molt comú l'ús del coeficient de correlació de Pearson per a dades amb una distribució normal. També hi han altres correlacions com la de Spearman o Kendall.\n",
    "\n",
    "El coeficient de correlació té la següent fórmula:"
   ]
  },
  {
   "cell_type": "markdown",
   "id": "77bf3718",
   "metadata": {},
   "source": [
    "![coeficient](https://economipedia.com/wp-content/uploads/2015/12/formula-correlaci%C3%B3n.png)"
   ]
  },
  {
   "cell_type": "markdown",
   "id": "ea404966",
   "metadata": {},
   "source": [
    "És a dir, és la covariança entre el valor \"x\" i \"y\" (grau de variació conjunta entre dos variables), sobre la multiplicació de la desviació estàndar de \"x\" i la desviació estàndar de \"y\". D'aquesta manera, s'estandaritza la covariança.\n",
    "\n",
    "El valor de p(x,y) es situa entre -1 i 1:\n",
    "* Si el valor és < 0, la correlació és negativa.\n",
    "* Si el valor és = 0, no hi ha relació entre les dues variables.\n",
    "* Si el valor és > 0, la correlació es positiva.\n",
    "\n",
    "Quan més proper estigui el valor als extrems [-1,1], més forta és la correlació. Si els valors són iguals a [-1,1], indica que existeix una relació lineal negativa/positiva perfecta."
   ]
  },
  {
   "cell_type": "code",
   "execution_count": 7,
   "id": "05b7248c",
   "metadata": {},
   "outputs": [],
   "source": [
    "# Definim dos arrays d'una dimensió\n",
    "\n",
    "array_e = np.array([0.5,2,3,1])\n",
    "array_f = np.array([2,3,2.9,1.5])"
   ]
  },
  {
   "cell_type": "code",
   "execution_count": 8,
   "id": "8d494448",
   "metadata": {},
   "outputs": [],
   "source": [
    "# Per extreure el numerador de la fracció, busquem la formula de la covariança:\n",
    "\n",
    "cov_array = np.mean((array_e-np.mean(array_e))*(array_f-np.mean(array_f)))"
   ]
  },
  {
   "cell_type": "code",
   "execution_count": 9,
   "id": "9a080c12",
   "metadata": {},
   "outputs": [
    {
     "name": "stdout",
     "output_type": "stream",
     "text": [
      "0.800045880148271\n"
     ]
    }
   ],
   "source": [
    "# Utilitzem les funcions de la covariança cov() i desviació estàndar std() per crear la fórmula del coeficient de correlació\n",
    "\n",
    "def coefcorr():\n",
    "    print(cov_array / (np.std(array_e) * np.std(array_f)))\n",
    "\n",
    "coefcorr()"
   ]
  },
  {
   "cell_type": "code",
   "execution_count": 10,
   "id": "9e949fde",
   "metadata": {},
   "outputs": [
    {
     "data": {
      "text/plain": [
       "array([[1.        , 0.80004588],\n",
       "       [0.80004588, 1.        ]])"
      ]
     },
     "execution_count": 10,
     "metadata": {},
     "output_type": "execute_result"
    }
   ],
   "source": [
    "# Comprovem amb la funció corrcoef(). El coeficient de correlació entre els dos arrays és força alt, igual a 0.8\n",
    "\n",
    "np.corrcoef(array_e,array_f)"
   ]
  }
 ],
 "metadata": {
  "kernelspec": {
   "display_name": "Python 3",
   "language": "python",
   "name": "python3"
  },
  "language_info": {
   "codemirror_mode": {
    "name": "ipython",
    "version": 3
   },
   "file_extension": ".py",
   "mimetype": "text/x-python",
   "name": "python",
   "nbconvert_exporter": "python",
   "pygments_lexer": "ipython3",
   "version": "3.8.8"
  }
 },
 "nbformat": 4,
 "nbformat_minor": 5
}

